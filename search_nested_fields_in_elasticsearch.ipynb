{
 "cells": [
  {
   "cell_type": "markdown",
   "metadata": {},
   "source": [
    "An example of searching in nested fields in elasticsearch"
   ]
  },
  {
   "cell_type": "code",
   "execution_count": 1,
   "metadata": {
    "collapsed": true
   },
   "outputs": [],
   "source": [
    "from elasticsearch import Elasticsearch\n",
    "from elasticsearch.client import IndicesClient\n",
    "from elasticsearch.client import CatClient"
   ]
  },
  {
   "cell_type": "code",
   "execution_count": 2,
   "metadata": {
    "collapsed": true
   },
   "outputs": [],
   "source": [
    "elastic_db = Elasticsearch(['localhost:9200'])\n",
    "indices_client = IndicesClient(elastic_db)\n",
    "cat_client = CatClient(elastic_db)"
   ]
  },
  {
   "cell_type": "code",
   "execution_count": 3,
   "metadata": {
    "collapsed": false
   },
   "outputs": [
    {
     "name": "stdout",
     "output_type": "stream",
     "text": [
      "health status index   uuid                   pri rep docs.count docs.deleted store.size pri.store.size\n",
      "yellow open   .kibana _RRwYu7rSd2H7CuBLtZ4dw   1   1          2            1     12.2kb         12.2kb\n",
      "\n"
     ]
    }
   ],
   "source": [
    "# To view the indices on Elastisearch:\n",
    "print(cat_client.indices(v=True))"
   ]
  },
  {
   "cell_type": "code",
   "execution_count": 4,
   "metadata": {
    "collapsed": false
   },
   "outputs": [
    {
     "name": "stdout",
     "output_type": "stream",
     "text": [
      "{'shards_acknowledged': True, 'acknowledged': True, 'index': 'nested_idx'}\n"
     ]
    }
   ],
   "source": [
    "# Create the nested_idx with required settings and mappings\n",
    "idx_structure = {\n",
    "    \"settings\": {},\n",
    "    \"mappings\": {\n",
    "        \"doc\": {\n",
    "            \"properties\": { \n",
    "                \"user_name\":{\"type\":\"text\"},\n",
    "                \"user_email\":{\"type\":\"text\"},\n",
    "                \"project\":{\n",
    "                    \"type\": \"nested\",\n",
    "                    \"properties\":{\n",
    "                        \"project_name\":{\"type\":\"text\"},\n",
    "                        \"project_id\":{\"type\":\"text\"},\n",
    "                        \"asset\":{\n",
    "                            \"type\":\"nested\",\n",
    "                            \"properties\":{\n",
    "                                \"asset_name\":{\"type\":\"text\"},\n",
    "                                \"asset_id\":{\"type\":\"text\"}\n",
    "                            }\n",
    "                        }\n",
    "                    }\n",
    "                }\n",
    "            }\n",
    "        }\n",
    "    }\n",
    "}\n",
    "\n",
    "response = indices_client.create(index='nested_idx',body=idx_structure)\n",
    "print(response)"
   ]
  },
  {
   "cell_type": "code",
   "execution_count": 5,
   "metadata": {
    "collapsed": false
   },
   "outputs": [
    {
     "name": "stdout",
     "output_type": "stream",
     "text": [
      "{'result': 'created', '_type': 'doc', '_seq_no': 0, 'forced_refresh': True, '_version': 1, '_shards': {'successful': 1, 'failed': 0, 'total': 2}, '_index': 'nested_idx', '_id': 'cX0cQmUBOrnFUpGSLBWR', '_primary_term': 1}\n"
     ]
    }
   ],
   "source": [
    "# Add document 1\n",
    "doc_body = {\n",
    "    \"user_name\": \"u1\",\n",
    "    \"user_email\":\"u1@u1.com\",\n",
    "    \"project\": [\n",
    "        {\n",
    "            \"project_name\": \"p1\",\n",
    "            \"project_id\": \"p1Id\",\n",
    "            \"asset\":[\n",
    "                {\n",
    "                    \"asset_name\":\"a1\",\n",
    "                    \"asset_id\":\"a1Id\"\n",
    "                },\n",
    "                {\n",
    "                    \"asset_name\":\"a2\",\n",
    "                    \"asset_id\":\"a2Id\"\n",
    "                }\n",
    "            ]\n",
    "        },\n",
    "        {\n",
    "            \"project_name\": \"p2\",\n",
    "            \"project_id\": \"p2Id\",\n",
    "            \"asset\":[\n",
    "                {\n",
    "                    \"asset_name\":\"a3\",\n",
    "                    \"asset_id\":\"a3Id\"\n",
    "                },\n",
    "                {\n",
    "                    \"asset_name\":\"a4\",\n",
    "                    \"asset_id\":\"a4Id\"\n",
    "                }\n",
    "            ]\n",
    "        }\n",
    "    ]\n",
    "}\n",
    "\n",
    "response = elastic_db.index(index='nested_idx', doc_type='doc', body=doc_body,refresh=True)\n",
    "print(response)"
   ]
  },
  {
   "cell_type": "code",
   "execution_count": 6,
   "metadata": {
    "collapsed": false
   },
   "outputs": [
    {
     "name": "stdout",
     "output_type": "stream",
     "text": [
      "{'result': 'created', '_type': 'doc', '_seq_no': 0, 'forced_refresh': True, '_version': 1, '_shards': {'successful': 1, 'failed': 0, 'total': 2}, '_index': 'nested_idx', '_id': 'cn0cQmUBOrnFUpGSLRVs', '_primary_term': 1}\n"
     ]
    }
   ],
   "source": [
    "# Add document 2\n",
    "doc_body = {\n",
    "    \"user_name\": \"u2\",\n",
    "    \"user_email\":\"u2@u2.com\",\n",
    "    \"project\": [\n",
    "        {\n",
    "            \"project_name\": \"p3\",\n",
    "            \"project_id\": \"p3Id\",\n",
    "            \"asset\":[\n",
    "                {\n",
    "                    \"asset_name\":\"a5\",\n",
    "                    \"asset_id\":\"a5Id\"\n",
    "                },\n",
    "                {\n",
    "                    \"asset_name\":\"a6\",\n",
    "                    \"asset_id\":\"a6Id\"\n",
    "                }\n",
    "            ]\n",
    "        },\n",
    "        {\n",
    "            \"project_name\": \"p4\",\n",
    "            \"project_id\": \"p4Id\",\n",
    "            \"asset\":[\n",
    "                {\n",
    "                    \"asset_name\":\"a7\",\n",
    "                    \"asset_id\":\"a7Id\"\n",
    "                },\n",
    "                {\n",
    "                    \"asset_name\":\"a8\",\n",
    "                    \"asset_id\":\"a8Id\"\n",
    "                }\n",
    "            ]\n",
    "        }\n",
    "    ]\n",
    "}\n",
    "\n",
    "response = elastic_db.index(index='nested_idx', doc_type='doc', body=doc_body,refresh=True)\n",
    "print(response)"
   ]
  },
  {
   "cell_type": "code",
   "execution_count": 7,
   "metadata": {
    "collapsed": false
   },
   "outputs": [
    {
     "name": "stdout",
     "output_type": "stream",
     "text": [
      "{'timed_out': False, 'hits': {'hits': [{'_score': 0.2876821, '_index': 'nested_idx', '_type': 'doc', '_source': {'user_email': 'u2@u2.com', 'user_name': 'u2', 'project': [{'project_name': 'p3', 'project_id': 'p3Id', 'asset': [{'asset_id': 'a5Id', 'asset_name': 'a5'}, {'asset_id': 'a6Id', 'asset_name': 'a6'}]}, {'project_name': 'p4', 'project_id': 'p4Id', 'asset': [{'asset_id': 'a7Id', 'asset_name': 'a7'}, {'asset_id': 'a8Id', 'asset_name': 'a8'}]}]}, '_id': 'cn0cQmUBOrnFUpGSLRVs'}], 'max_score': 0.2876821, 'total': 1}, 'took': 6, '_shards': {'skipped': 0, 'successful': 5, 'failed': 0, 'total': 5}}\n"
     ]
    }
   ],
   "source": [
    "# Search on user_name\n",
    "query_body = {\n",
    "    \"query\": {\n",
    "        \"match\":{\"user_name\":\"u2\"}\n",
    "    }\n",
    "}\n",
    "\n",
    "response = elastic_db.search(index='nested_idx',body=query_body)\n",
    "print(response)"
   ]
  },
  {
   "cell_type": "code",
   "execution_count": 8,
   "metadata": {
    "collapsed": false
   },
   "outputs": [
    {
     "name": "stdout",
     "output_type": "stream",
     "text": [
      "{'timed_out': False, 'hits': {'hits': [{'_score': 0.6931472, '_index': 'nested_idx', '_type': 'doc', '_source': {'user_email': 'u2@u2.com', 'user_name': 'u2', 'project': [{'project_name': 'p3', 'project_id': 'p3Id', 'asset': [{'asset_id': 'a5Id', 'asset_name': 'a5'}, {'asset_id': 'a6Id', 'asset_name': 'a6'}]}, {'project_name': 'p4', 'project_id': 'p4Id', 'asset': [{'asset_id': 'a7Id', 'asset_name': 'a7'}, {'asset_id': 'a8Id', 'asset_name': 'a8'}]}]}, '_id': 'cn0cQmUBOrnFUpGSLRVs'}], 'max_score': 0.6931472, 'total': 1}, 'took': 4, '_shards': {'skipped': 0, 'successful': 5, 'failed': 0, 'total': 5}}\n"
     ]
    }
   ],
   "source": [
    "# Search on project_name\n",
    "query_body = {\n",
    "    \"query\": {\n",
    "        \"nested\":{\n",
    "            \"path\":\"project\",\n",
    "            \"query\":{\n",
    "                \"match\":{\n",
    "                    \"project.project_name\":\"p3\"\n",
    "                }\n",
    "            }\n",
    "        }\n",
    "    }\n",
    "}\n",
    "\n",
    "response = elastic_db.search(index='nested_idx',body=query_body)\n",
    "print(response)"
   ]
  },
  {
   "cell_type": "code",
   "execution_count": 9,
   "metadata": {
    "collapsed": false
   },
   "outputs": [
    {
     "name": "stdout",
     "output_type": "stream",
     "text": [
      "{'timed_out': False, 'hits': {'hits': [{'_score': 1.2039728, '_index': 'nested_idx', '_type': 'doc', '_source': {'user_email': 'u2@u2.com', 'user_name': 'u2', 'project': [{'project_name': 'p3', 'project_id': 'p3Id', 'asset': [{'asset_id': 'a5Id', 'asset_name': 'a5'}, {'asset_id': 'a6Id', 'asset_name': 'a6'}]}, {'project_name': 'p4', 'project_id': 'p4Id', 'asset': [{'asset_id': 'a7Id', 'asset_name': 'a7'}, {'asset_id': 'a8Id', 'asset_name': 'a8'}]}]}, '_id': 'cn0cQmUBOrnFUpGSLRVs'}], 'max_score': 1.2039728, 'total': 1}, 'took': 2, '_shards': {'skipped': 0, 'successful': 5, 'failed': 0, 'total': 5}}\n"
     ]
    }
   ],
   "source": [
    "# Search on two level nesting. On asset_name\n",
    "query_body = {\n",
    "    \"query\": {\n",
    "        \"nested\":{\n",
    "            \"path\":\"project\",\n",
    "            \"query\":{\n",
    "                \"nested\":{\n",
    "                    \"path\":\"project.asset\",\n",
    "                    \"query\":{\n",
    "                        \"match\":{\n",
    "                            \"project.asset.asset_name\":\"a6\"\n",
    "                        }\n",
    "                    }\n",
    "                }\n",
    "            }\n",
    "        }\n",
    "    }\n",
    "}\n",
    "\n",
    "response = elastic_db.search(index='nested_idx',body=query_body)\n",
    "print(response)"
   ]
  },
  {
   "cell_type": "raw",
   "metadata": {},
   "source": [
    "Using Kibana's Dev Tools tab:\n",
    "-----------------------------\n",
    "# Create index\n",
    "# User at root\n",
    "# User has an array of nested projects\n",
    "# Every project has an array of nested assets\n",
    "\n",
    "PUT my_index\n",
    "{\n",
    "\t\"mappings\": {\n",
    "\t\t\"my_type\": {\n",
    "\t\t\t\"properties\": { \n",
    "\t\t\t\t\"user_name\":{\"type\":\"text\"},\n",
    "\t\t\t\t\"user_email\":{\"type\":\"text\"},\n",
    "\t\t\t\t\"project\":{\n",
    "\t\t\t\t\t\"type\": \"nested\",\n",
    "\t\t\t\t\t\"properties\":{\n",
    "\t\t\t\t\t\t\"project_name\":{\"type\":\"text\"},\n",
    "\t\t\t\t\t\t\"project_id\":{\"type\":\"text\"},\n",
    "\t\t\t\t\t\t\"asset\":{\n",
    "\t\t\t\t\t\t\t\"type\":\"nested\",\n",
    "\t\t\t\t\t\t\t\"properties\":{\n",
    "\t\t\t\t\t\t\t\t\"asset_name\":{\"type\":\"text\"},\n",
    "\t\t\t\t\t\t\t\t\"asset_id\":{\"type\":\"text\"}\n",
    "\t\t\t\t\t\t\t}\n",
    "\t\t\t\t\t\t}\n",
    "\t\t\t\t\t}\n",
    "\t\t\t\t}\n",
    "\t\t    }\n",
    "\t\t}\n",
    "\t}\n",
    "}\n",
    "\n",
    "# ADDING DOCUMENT 1\n",
    "\n",
    "PUT /my_index/my_type/1\n",
    "{\n",
    "  \t\"user_name\": \"u1\",\n",
    "  \t\"user_email\":\"u1@u1.com\",\n",
    "  \t\"project\": [ \n",
    "    {\n",
    "    \t\"project_name\": \"p1\",\n",
    "    \t\"project_id\": \"p1Id\",\n",
    "    \t\"asset\":[\n",
    "    \t{\n",
    "    \t\t\"asset_name\":\"a1\",\n",
    "    \t\t\"asset_id\":\"a1Id\"\n",
    "    \t},\n",
    "    \t{\n",
    "    \t\t\"asset_name\":\"a2\",\n",
    "    \t\t\"asset_id\":\"a2Id\"\n",
    "    \t}\n",
    "      \t]\n",
    "    },\n",
    "    {\n",
    "    \t\"project_name\": \"p2\",\n",
    "      \t\"project_id\": \"p2Id\",    \n",
    "    \t\"asset\":[\n",
    "    \t{\n",
    "    \t\t\"asset_name\":\"a3\",\n",
    "    \t\t\"asset_id\":\"a3Id\"\n",
    "    \t},\n",
    "    \t{\n",
    "    \t\t\"asset_name\":\"a4\",\n",
    "    \t\t\"asset_id\":\"a4Id\"\n",
    "    \t}\n",
    "    \t]\n",
    "    }\n",
    "    ]  \n",
    "}\n",
    "\n",
    "# ADDING DOCUMENT 2\n",
    "\n",
    "PUT /my_index/my_type/2\n",
    "{\n",
    "  \t\"user_name\": \"u2\",\n",
    "  \t\"user_email\":\"u2@u2.com\",\n",
    "  \t\"project\": [ \n",
    "    {\n",
    "    \t\"project_name\": \"p3\",\n",
    "    \t\"project_id\": \"p3Id\",\n",
    "    \t\"asset\":[\n",
    "    \t{\n",
    "    \t\t\"asset_name\":\"a5\",\n",
    "    \t\t\"asset_id\":\"a5Id\"\n",
    "    \t},\n",
    "    \t{\n",
    "    \t\t\"asset_name\":\"a6\",\n",
    "    \t\t\"asset_id\":\"a6Id\"\n",
    "    \t}\n",
    "      \t]\n",
    "    },\n",
    "    {\n",
    "    \t\"project_name\": \"p4\",\n",
    "      \t\"project_id\": \"p4Id\",    \n",
    "    \t\"asset\":[\n",
    "    \t{\n",
    "    \t\t\"asset_name\":\"a7\",\n",
    "    \t\t\"asset_id\":\"a7Id\"\n",
    "    \t},\n",
    "    \t{\n",
    "    \t\t\"asset_name\":\"a8\",\n",
    "    \t\t\"asset_id\":\"a8Id\"\n",
    "    \t}\n",
    "    \t]\n",
    "    }\n",
    "    ]  \n",
    "}\n",
    "\n",
    "# SEARCHING ON USER_NAME\n",
    "GET /my_index/my_type/_search\n",
    "{\n",
    "  \"query\": {\n",
    "    \"match\":{\"user_name\":\"u2\"} \n",
    "  }\n",
    "}\n",
    "\n",
    "# SEARCHING ON NESTED PROJECT_NAME\n",
    "GET /my_index/my_type/_search\n",
    "{\n",
    "  \"query\": {\n",
    "    \"nested\":{\n",
    "      \"path\":\"project\",\n",
    "      \"query\":{\n",
    "        \"match\":{\"project.project_name\":\"p3\"}  \n",
    "      }\n",
    "    }\n",
    "  }\n",
    "}\n",
    "\n",
    "# SEARCHING ON TWO LEVEL NESTING. ON ASSET NAME\n",
    "GET /my_index/my_type/_search\n",
    "{\n",
    "  \"query\": {\n",
    "    \"nested\":{\n",
    "      \"path\":\"project\",\n",
    "      \"query\":{\n",
    "        \"nested\":{\n",
    "          \"path\":\"project.asset\",\n",
    "          \"query\":{\n",
    "            \"match\":{\"project.asset.asset_name\":\"a6\"}\n",
    "          }\n",
    "        }\n",
    "      }\n",
    "    }\n",
    "  }\n",
    "}\n"
   ]
  }
 ],
 "metadata": {
  "kernelspec": {
   "display_name": "Python [conda env:BillingAndMetering]",
   "language": "python",
   "name": "conda-env-BillingAndMetering-py"
  },
  "language_info": {
   "codemirror_mode": {
    "name": "ipython",
    "version": 3
   },
   "file_extension": ".py",
   "mimetype": "text/x-python",
   "name": "python",
   "nbconvert_exporter": "python",
   "pygments_lexer": "ipython3",
   "version": "3.5.4"
  }
 },
 "nbformat": 4,
 "nbformat_minor": 2
}
