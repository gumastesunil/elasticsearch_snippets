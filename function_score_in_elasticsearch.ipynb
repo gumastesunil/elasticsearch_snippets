{
 "cells": [
  {
   "cell_type": "markdown",
   "metadata": {},
   "source": [
    "An example of using \"function score\" feature in elasticsearch"
   ]
  },
  {
   "cell_type": "code",
   "execution_count": 1,
   "metadata": {
    "collapsed": true
   },
   "outputs": [],
   "source": [
    "from elasticsearch import Elasticsearch\n",
    "from elasticsearch.client import IndicesClient\n",
    "from elasticsearch.client import CatClient"
   ]
  },
  {
   "cell_type": "code",
   "execution_count": 2,
   "metadata": {
    "collapsed": false
   },
   "outputs": [],
   "source": [
    "elastic_db = Elasticsearch(['localhost:9200'])\n",
    "indices_client = IndicesClient(elastic_db)\n",
    "cat_client = CatClient(elastic_db)"
   ]
  },
  {
   "cell_type": "code",
   "execution_count": 3,
   "metadata": {
    "collapsed": false
   },
   "outputs": [
    {
     "name": "stdout",
     "output_type": "stream",
     "text": [
      "health status index   uuid                   pri rep docs.count docs.deleted store.size pri.store.size\n",
      "yellow open   .kibana _RRwYu7rSd2H7CuBLtZ4dw   1   1          2            1     12.2kb         12.2kb\n",
      "\n"
     ]
    }
   ],
   "source": [
    "# To view the indices on Elastisearch:\n",
    "print(cat_client.indices(v=True))"
   ]
  },
  {
   "cell_type": "code",
   "execution_count": 4,
   "metadata": {
    "collapsed": false
   },
   "outputs": [
    {
     "name": "stdout",
     "output_type": "stream",
     "text": [
      "{'shards_acknowledged': True, 'index': 'fscore_idx', 'acknowledged': True}\n"
     ]
    }
   ],
   "source": [
    "# Create the dest_idx with required settings and mappings\n",
    "idx_structure = {\n",
    "    \"settings\":{\n",
    "    },\n",
    "    \"mappings\": {\n",
    "        \"doc\": {\n",
    "            \"properties\": {\n",
    "                \"sku\":{\"type\":\"text\"},\n",
    "                \"productFamily\":{\"type\":\"text\"},\n",
    "                \"price\":{\"type\":\"integer\"},\n",
    "                \"vcpu\":{\"type\":\"integer\"},\n",
    "                \"memory\":{\"type\":\"integer\"}\n",
    "            }\n",
    "        }\n",
    "    }\n",
    "}\n",
    "\n",
    "response = indices_client.create(index='fscore_idx',body=idx_structure)\n",
    "print(response)"
   ]
  },
  {
   "cell_type": "code",
   "execution_count": 5,
   "metadata": {
    "collapsed": false
   },
   "outputs": [
    {
     "name": "stdout",
     "output_type": "stream",
     "text": [
      "{'_version': 1, '_id': 'SX00PWUBOrnFUpGSCBWq', '_shards': {'failed': 0, 'total': 2, 'successful': 1}, '_primary_term': 1, '_index': 'fscore_idx', '_seq_no': 0, '_type': 'doc', 'result': 'created', 'forced_refresh': True}\n"
     ]
    }
   ],
   "source": [
    "# Add document 1\n",
    "doc_body = {\n",
    "    \"sku\": \"sku1\",\n",
    "    \"productFamily\":\"sku1_product\",\n",
    "    \"price\":25,\n",
    "    \"vcpu\": 2,\n",
    "    \"memory\":4\n",
    "}\n",
    "\n",
    "response = elastic_db.index(index='fscore_idx', doc_type='doc', body=doc_body,refresh=True)\n",
    "print(response)"
   ]
  },
  {
   "cell_type": "code",
   "execution_count": 6,
   "metadata": {
    "collapsed": false
   },
   "outputs": [
    {
     "name": "stdout",
     "output_type": "stream",
     "text": [
      "{'_version': 1, '_id': 'Sn00PWUBOrnFUpGSCRV1', '_shards': {'failed': 0, 'total': 2, 'successful': 1}, '_primary_term': 1, '_index': 'fscore_idx', '_seq_no': 0, '_type': 'doc', 'result': 'created', 'forced_refresh': True}\n"
     ]
    }
   ],
   "source": [
    "# Add document 2\n",
    "doc_body = {\n",
    "    \"sku\": \"sku2\",\n",
    "    \"productFamily\":\"sku2_product\",\n",
    "    \"price\":50,\n",
    "    \"vcpu\": 4,\n",
    "    \"memory\": 8\n",
    "}\n",
    "\n",
    "response = elastic_db.index(index='fscore_idx', doc_type='doc', body=doc_body,refresh=True)\n",
    "print(response)"
   ]
  },
  {
   "cell_type": "code",
   "execution_count": 7,
   "metadata": {
    "collapsed": false
   },
   "outputs": [
    {
     "name": "stdout",
     "output_type": "stream",
     "text": [
      "{'_version': 1, '_id': 'S300PWUBOrnFUpGSChUv', '_shards': {'failed': 0, 'total': 2, 'successful': 1}, '_primary_term': 1, '_index': 'fscore_idx', '_seq_no': 0, '_type': 'doc', 'result': 'created', 'forced_refresh': True}\n"
     ]
    }
   ],
   "source": [
    "# Add document 3\n",
    "doc_body = {\n",
    "    \"sku\": \"sku3\",\n",
    "    \"productFamily\":\"sku3_product\",\n",
    "    \"price\":75,\n",
    "    \"vcpu\": 8,\n",
    "    \"memory\": 16 \n",
    "}\n",
    "\n",
    "response = elastic_db.index(index='fscore_idx', doc_type='doc', body=doc_body,refresh=True)\n",
    "print(response)"
   ]
  },
  {
   "cell_type": "code",
   "execution_count": 8,
   "metadata": {
    "collapsed": false
   },
   "outputs": [
    {
     "name": "stdout",
     "output_type": "stream",
     "text": [
      "{'_version': 1, '_id': 'TH00PWUBOrnFUpGSChXU', '_shards': {'failed': 0, 'total': 2, 'successful': 1}, '_primary_term': 1, '_index': 'fscore_idx', '_seq_no': 0, '_type': 'doc', 'result': 'created', 'forced_refresh': True}\n"
     ]
    }
   ],
   "source": [
    "# Add document 4\n",
    "doc_body = {\n",
    "    \"sku\": \"sku4\",\n",
    "    \"productFamily\":\"sku4_product\",\n",
    "    \"price\":100,\n",
    "    \"vcpu\": 16,\n",
    "    \"memory\": 32\n",
    "}\n",
    "\n",
    "response = elastic_db.index(index='fscore_idx', doc_type='doc', body=doc_body,refresh=True)\n",
    "print(response)"
   ]
  },
  {
   "cell_type": "code",
   "execution_count": 9,
   "metadata": {
    "collapsed": false
   },
   "outputs": [
    {
     "name": "stdout",
     "output_type": "stream",
     "text": [
      "health status index      uuid                   pri rep docs.count docs.deleted store.size pri.store.size\n",
      "yellow open   fscore_idx pB9m3sUVTDiZJ3CImdp4IQ   5   1          4            0      3.8kb          3.8kb\n",
      "yellow open   .kibana    _RRwYu7rSd2H7CuBLtZ4dw   1   1          2            1     12.2kb         12.2kb\n",
      "\n"
     ]
    }
   ],
   "source": [
    "# To view the indices on Elastisearch:\n",
    "print(cat_client.indices(v=True))"
   ]
  },
  {
   "cell_type": "code",
   "execution_count": 10,
   "metadata": {
    "collapsed": false
   },
   "outputs": [
    {
     "name": "stdout",
     "output_type": "stream",
     "text": [
      "{'_index': 'fscore_idx', '_id': 'Sn00PWUBOrnFUpGSCRV1', '_source': {'price': 50, 'sku': 'sku2', 'productFamily': 'sku2_product', 'memory': 8, 'vcpu': 4}, '_score': 1.016681, '_type': 'doc'}\n"
     ]
    }
   ],
   "source": [
    "# QUERY FUNCTION. \n",
    "# Considers vcpu and memory field\n",
    "# Other fields can be added\n",
    "# Origin parameter will be the value to search\n",
    "# offset/scale/decay parameters have to be set by trial and error depending on data and requirement\n",
    "# \"explain\":True/False used to check the break up of score\n",
    "sch_body = {\n",
    "    \"explain\": True,\n",
    "    \"query\":{\n",
    "        \"function_score\":{\n",
    "            \"query\":{\n",
    "                \"match_all\":{}\n",
    "            },\n",
    "            \"functions\":[\n",
    "                {\n",
    "                    \"gauss\":{\n",
    "                        \"vcpu\":{\n",
    "                            \"origin\":\"4\",\n",
    "                            \"offset\": \"0.5\",\n",
    "                            \"scale\":\"0.75\",\n",
    "                            \"decay\":\"0.01\"\n",
    "                        }\n",
    "                    }\n",
    "                },\n",
    "                {\n",
    "                    \"gauss\":{\n",
    "                        \"memory\":{\n",
    "                            \"origin\":\"7\",\n",
    "                            \"offset\": \"0.5\",\n",
    "                            \"scale\":\"0.75\",\n",
    "                            \"decay\":\"0.0001\"\n",
    "                        }\n",
    "                    }\n",
    "                }\n",
    "            ],\n",
    "            \"score_mode\":\"sum\",\n",
    "            \"boost_mode\": \"replace\"\n",
    "        }\n",
    "    }\n",
    "}\n",
    "\n",
    "response = elastic_db.search(index='fscore_idx', body=sch_body, explain=False)\n",
    "print(response['hits']['hits'][0])"
   ]
  },
  {
   "cell_type": "raw",
   "metadata": {},
   "source": [
    "Using Kibana's Dev Tools tab:\n",
    "-----------------------------\n",
    "\n",
    "PUT fscore_idx\n",
    "{\n",
    "  \"mappings\": {\n",
    "    \"doc\": {\n",
    "      \"properties\": { \n",
    "        \"sku\":{\"type\":\"text\"},\n",
    "        \"productFamily\":{\"type\":\"text\"},\n",
    "        \"price\":{\"type\":\"integer\"},\n",
    "        \"vcpu\":{\"type\":\"integer\"},\n",
    "        \"memory\":{\"type\":\"integer\"}     \n",
    "      }\n",
    "    }\n",
    "  }\n",
    "}\n",
    "\n",
    "# Add document 1\n",
    "POST /fscore_idx/doc\n",
    "{\n",
    "  \"sku\": \"sku1\",\n",
    "  \"productFamily\":\"sku1_product\",\n",
    "  \"price\":25,\n",
    "  \"vcpu\": 2,\n",
    "  \"memory\":4\n",
    "}\n",
    "\n",
    "# Add document 2\n",
    "POST /fscore_idx/doc\n",
    "{\n",
    "  \"sku\": \"sku2\",\n",
    "  \"productFamily\":\"sku2_product\",\n",
    "  \"price\":50,\n",
    "  \"vcpu\": 4,\n",
    "  \"memory\": 8  \n",
    "}\n",
    "\n",
    "# Add document 3\n",
    "POST /fscore_idx/doc\n",
    "{\n",
    "  \"sku\": \"sku3\",\n",
    "  \"productFamily\":\"sku3_product\",\n",
    "  \"price\":75,\n",
    "  \"vcpu\": 8,\n",
    "  \"memory\": 16  \n",
    "}\n",
    "\n",
    "# Add document 4\n",
    "POST /fscore_idx/doc\n",
    "{\n",
    "  \"sku\": \"sku4\",\n",
    "  \"productFamily\":\"sku4_product\",\n",
    "  \"price\":100,\n",
    "  \"vcpu\": 16,\n",
    "  \"memory\": 32  \n",
    "}\n",
    "\n",
    "# QUERY FUNCTION. \n",
    "# Considers vcpu and memory field\n",
    "# Other fields can be added\n",
    "# Origin parameter will be the value to search\n",
    "# offset/scale/decay parameters have to be set by trial and error depending on data and requirement\n",
    "# \"explain\":True/False used to check the break up of score\n",
    "GET /fscore_idx/doc/_search\n",
    "{\n",
    "  \"explain\": true, \n",
    "  \"query\":{\n",
    "    \"function_score\":{\n",
    "      \"query\":{\n",
    "        \"match_all\":{}\n",
    "      },\n",
    "      \"functions\":[\n",
    "        {\n",
    "          \"gauss\":{\n",
    "            \"vcpu\":{\n",
    "              \"origin\":\"4\",\n",
    "              \"offset\": \"0.5\", \n",
    "              \"scale\":\"0.75\",\n",
    "              \"decay\":\"0.01\"\n",
    "            }\n",
    "          }\n",
    "        },\n",
    "        {\n",
    "          \"gauss\":{\n",
    "            \"memory\":{\n",
    "              \"origin\":\"7\",\n",
    "              \"offset\": \"0.5\", \n",
    "              \"scale\":\"0.75\",\n",
    "              \"decay\":\"0.0001\"\n",
    "            }\n",
    "          }\n",
    "        }\n",
    "      ],\n",
    "      \"score_mode\":\"sum\",\n",
    "      \"boost_mode\": \"replace\"\n",
    "    }\n",
    "  }\n",
    "}\n"
   ]
  }
 ],
 "metadata": {
  "kernelspec": {
   "display_name": "Python [conda env:BillingAndMetering]",
   "language": "python",
   "name": "conda-env-BillingAndMetering-py"
  },
  "language_info": {
   "codemirror_mode": {
    "name": "ipython",
    "version": 3
   },
   "file_extension": ".py",
   "mimetype": "text/x-python",
   "name": "python",
   "nbconvert_exporter": "python",
   "pygments_lexer": "ipython3",
   "version": "3.5.4"
  }
 },
 "nbformat": 4,
 "nbformat_minor": 2
}
