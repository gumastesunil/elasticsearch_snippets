{
 "cells": [
  {
   "cell_type": "markdown",
   "metadata": {},
   "source": [
    "An example of searching on nested fields and values"
   ]
  },
  {
   "cell_type": "code",
   "execution_count": 1,
   "metadata": {
    "collapsed": true
   },
   "outputs": [],
   "source": [
    "from elasticsearch import Elasticsearch\n",
    "from elasticsearch.client import IndicesClient\n",
    "from elasticsearch.client import CatClient"
   ]
  },
  {
   "cell_type": "code",
   "execution_count": 2,
   "metadata": {
    "collapsed": true
   },
   "outputs": [],
   "source": [
    "elastic_db = Elasticsearch(['localhost:9200'])\n",
    "indices_client = IndicesClient(elastic_db)\n",
    "cat_client = CatClient(elastic_db)"
   ]
  },
  {
   "cell_type": "code",
   "execution_count": 3,
   "metadata": {
    "collapsed": false
   },
   "outputs": [
    {
     "name": "stdout",
     "output_type": "stream",
     "text": [
      "health status index   uuid                   pri rep docs.count docs.deleted store.size pri.store.size\n",
      "yellow open   .kibana _RRwYu7rSd2H7CuBLtZ4dw   1   1          2            1     12.2kb         12.2kb\n",
      "\n"
     ]
    }
   ],
   "source": [
    "# To view the indices on Elastisearch:\n",
    "print(cat_client.indices(v=True))"
   ]
  },
  {
   "cell_type": "code",
   "execution_count": 4,
   "metadata": {
    "collapsed": false
   },
   "outputs": [
    {
     "name": "stdout",
     "output_type": "stream",
     "text": [
      "{'shards_acknowledged': True, 'index': 'nstd_idx', 'acknowledged': True}\n"
     ]
    }
   ],
   "source": [
    "# Create the dest_idx with required settings and mappings\n",
    "idx_structure = {\n",
    "    \"mappings\": {\n",
    "        \"doc\": {\n",
    "            \"properties\": {\n",
    "                \"sku\":{\"type\":\"text\"},\n",
    "                \"productFamily\":{\"type\":\"text\"},\n",
    "                \"price\":{\"type\":\"integer\"},\n",
    "                \"attributes\":{\n",
    "                    \"type\": \"nested\",\n",
    "                    \"properties\":{\n",
    "                        \"vcpu\":{\"type\":\"integer\"},\n",
    "                        \"memory\":{\"type\":\"integer\"}\n",
    "                    }\n",
    "                }\n",
    "            }\n",
    "        }\n",
    "    }\n",
    "}\n",
    "\n",
    "response = indices_client.create(index='nstd_idx',body=idx_structure)\n",
    "print(response)"
   ]
  },
  {
   "cell_type": "code",
   "execution_count": 5,
   "metadata": {
    "collapsed": false
   },
   "outputs": [
    {
     "name": "stdout",
     "output_type": "stream",
     "text": [
      "{'result': 'created', '_primary_term': 1, 'forced_refresh': True, '_shards': {'failed': 0, 'total': 2, 'successful': 1}, '_index': 'nstd_idx', '_type': 'doc', '_version': 1, '_seq_no': 0, '_id': 'd31CQmUBOrnFUpGS4RUm'}\n"
     ]
    }
   ],
   "source": [
    "# Add document 1\n",
    "doc_body = {\n",
    "    \"sku\": \"sku1\",\n",
    "    \"productFamily\":\"sku1_product\",\n",
    "    \"price\":25,\n",
    "    \"attributes\":{\n",
    "        \"vcpu\": \"32\",\n",
    "        \"memory\": \"264\"\n",
    "    }\n",
    "}\n",
    "\n",
    "response = elastic_db.index(index='nstd_idx', doc_type='doc', body=doc_body,refresh=True)\n",
    "print(response)"
   ]
  },
  {
   "cell_type": "code",
   "execution_count": 6,
   "metadata": {
    "collapsed": false
   },
   "outputs": [
    {
     "name": "stdout",
     "output_type": "stream",
     "text": [
      "{'result': 'created', '_primary_term': 1, 'forced_refresh': True, '_shards': {'failed': 0, 'total': 2, 'successful': 1}, '_index': 'nstd_idx', '_type': 'doc', '_version': 1, '_seq_no': 0, '_id': 'eH1CQmUBOrnFUpGS4RX4'}\n"
     ]
    }
   ],
   "source": [
    "# Add document 2\n",
    "doc_body = {\n",
    "    \"sku\": \"sku2\",\n",
    "    \"productFamily\":\"sku2_product\",\n",
    "    \"price\":50,\n",
    "    \"attributes\":\n",
    "    {\n",
    "        \"vcpu\": \"64\",\n",
    "        \"memory\": \"512\"\n",
    "    }\n",
    "}\n",
    "\n",
    "response = elastic_db.index(index='nstd_idx', doc_type='doc', body=doc_body,refresh=True)\n",
    "print(response)"
   ]
  },
  {
   "cell_type": "code",
   "execution_count": 7,
   "metadata": {
    "collapsed": false
   },
   "outputs": [
    {
     "name": "stdout",
     "output_type": "stream",
     "text": [
      "{'_score': 0.2876821, '_source': {'price': 50, 'attributes': {'vcpu': '64', 'memory': '512'}, 'sku': 'sku2', 'productFamily': 'sku2_product'}, '_id': 'eH1CQmUBOrnFUpGS4RX4', '_index': 'nstd_idx', '_type': 'doc'}\n"
     ]
    }
   ],
   "source": [
    "# Searching on sku\n",
    "query_body = {\n",
    "    \"query\": {\n",
    "        \"match\":{\n",
    "            \"sku\":\"sku2\"\n",
    "        }\n",
    "    }\n",
    "}\n",
    "\n",
    "response = elastic_db.search(index='nstd_idx', body=query_body, explain=False)\n",
    "print(response['hits']['hits'][0])"
   ]
  },
  {
   "cell_type": "code",
   "execution_count": 8,
   "metadata": {
    "collapsed": false
   },
   "outputs": [
    {
     "name": "stdout",
     "output_type": "stream",
     "text": [
      "{'_score': 1.0, '_source': {'price': 50, 'attributes': {'vcpu': '64', 'memory': '512'}, 'sku': 'sku2', 'productFamily': 'sku2_product'}, '_id': 'eH1CQmUBOrnFUpGS4RX4', '_index': 'nstd_idx', '_type': 'doc'}\n"
     ]
    }
   ],
   "source": [
    "# Searching on nested vcpu\n",
    "query_body = {\n",
    "    \"query\": {\n",
    "        \"nested\":{\n",
    "            \"path\":\"attributes\",\n",
    "            \"query\":{\n",
    "                \"match\":{\n",
    "                    \"attributes.vcpu\":\"64\"\n",
    "                }\n",
    "            }\n",
    "        }\n",
    "    }\n",
    "}\n",
    "\n",
    "response = elastic_db.search(index='nstd_idx', body=query_body, explain=False)\n",
    "print(response['hits']['hits'][0])"
   ]
  },
  {
   "cell_type": "code",
   "execution_count": 9,
   "metadata": {
    "collapsed": false
   },
   "outputs": [
    {
     "name": "stdout",
     "output_type": "stream",
     "text": [
      "{'_score': 0.0, '_source': {'price': 50, 'attributes': {'vcpu': '64', 'memory': '512'}, 'sku': 'sku2', 'productFamily': 'sku2_product'}, '_id': 'eH1CQmUBOrnFUpGS4RX4', '_index': 'nstd_idx', '_type': 'doc'}\n"
     ]
    }
   ],
   "source": [
    "# Searching for a closest value in a nested field\n",
    "query_body = {\n",
    "    \"query\":{\n",
    "        \"nested\":{\n",
    "            \"path\":\"attributes\",\n",
    "            \"query\":{\n",
    "                \"function_score\":{\n",
    "                    \"query\":{\n",
    "                        \"match_all\":{}\n",
    "                    },\n",
    "                    \"script_score\":{\n",
    "                        \"script\":{\n",
    "                            \"params\":{\"val\":64},\n",
    "                            \"source\":\"-(Math.abs(params.val - doc['attributes.vcpu'].value))\"\n",
    "                        }\n",
    "                    },\n",
    "                    \"boost_mode\": \"replace\"\n",
    "                }\n",
    "            }\n",
    "        }\n",
    "    }\n",
    "}\n",
    "\n",
    "response = elastic_db.search(index='nstd_idx', body=query_body, explain=False)\n",
    "print(response['hits']['hits'][0])"
   ]
  },
  {
   "cell_type": "code",
   "execution_count": 10,
   "metadata": {
    "collapsed": false
   },
   "outputs": [
    {
     "name": "stdout",
     "output_type": "stream",
     "text": [
      "{'_score': 0.2876821, '_source': {'price': 50, 'attributes': {'vcpu': '64', 'memory': '512'}, 'sku': 'sku2', 'productFamily': 'sku2_product'}, '_id': 'eH1CQmUBOrnFUpGS4RX4', '_index': 'nstd_idx', '_type': 'doc'}\n"
     ]
    }
   ],
   "source": [
    "# Searching for a closest value in a nested field as well as a particular match\n",
    "query_body = {\n",
    "    \"query\":{\n",
    "        \"bool\":{\n",
    "            \"must\":[\n",
    "                {\n",
    "                    \"match\":{\"sku\":\"sku2\"}\n",
    "                },\n",
    "                {\n",
    "                    \"nested\":{\n",
    "                        \"path\":\"attributes\",\n",
    "                        \"query\":{\n",
    "                            \"function_score\":{\n",
    "                                \"query\":{\n",
    "                                    \"match_all\":{}\n",
    "                                },\n",
    "                                \"script_score\":{\n",
    "                                    \"script\":{\n",
    "                                        \"params\":{\"val\":64},\n",
    "                                        \"source\":\"-(Math.abs(params.val - doc['attributes.vcpu'].value))\"\n",
    "                                    }\n",
    "                                },\n",
    "                                \"boost_mode\": \"replace\"\n",
    "                            }\n",
    "                        }\n",
    "                    }\n",
    "                }\n",
    "            ]\n",
    "        }\n",
    "    }\n",
    "}\n",
    "\n",
    "response = elastic_db.search(index='nstd_idx', body=query_body, explain=False)\n",
    "print(response['hits']['hits'][0])"
   ]
  },
  {
   "cell_type": "code",
   "execution_count": 11,
   "metadata": {
    "collapsed": false
   },
   "outputs": [
    {
     "name": "stdout",
     "output_type": "stream",
     "text": [
      "{'_score': 2.287682, '_source': {'price': 50, 'attributes': {'vcpu': '64', 'memory': '512'}, 'sku': 'sku2', 'productFamily': 'sku2_product'}, '_id': 'eH1CQmUBOrnFUpGS4RX4', '_index': 'nstd_idx', '_type': 'doc'}\n"
     ]
    }
   ],
   "source": [
    "# Searching and combining multiple scores\n",
    "query_body = {\n",
    "    \"query\":{\n",
    "        \"bool\":{\n",
    "            \"must\":[\n",
    "                {\n",
    "                    \"match\":{\"sku\":\"sku2\"}\n",
    "                },\n",
    "                {\n",
    "                    \"nested\":{\n",
    "                        \"path\":\"attributes\",\n",
    "                        \"query\":{\n",
    "                            \"function_score\":{\n",
    "                                \"query\":{\n",
    "                                    \"match_all\":{}\n",
    "                                },\n",
    "                                \"functions\":[\n",
    "                                    {\n",
    "                                        \"gauss\":{\n",
    "                                            \"attributes.vcpu\":{\n",
    "                                                \"origin\":\"64\",\n",
    "                                                \"scale\":\"1\"\n",
    "                                            }\n",
    "                                        }\n",
    "                                    },\n",
    "                                    {\n",
    "                                        \"gauss\":{\n",
    "                                            \"attributes.memory\":{\n",
    "                                                \"origin\":\"512\",\n",
    "                                                \"scale\":\"1\"\n",
    "                                            }\n",
    "                                        }\n",
    "                                    }\n",
    "                                ],\n",
    "                                \"score_mode\":\"sum\",\n",
    "                                \"boost_mode\": \"replace\"\n",
    "                            }\n",
    "                        }\n",
    "                    }\n",
    "                }\n",
    "            ]\n",
    "        }\n",
    "    }\n",
    "}\n",
    "\n",
    "response = elastic_db.search(index='nstd_idx', body=query_body, explain=False)\n",
    "print(response['hits']['hits'][0])"
   ]
  },
  {
   "cell_type": "raw",
   "metadata": {},
   "source": [
    "Using Kibana's Dev Tools tab:\n",
    "-----------------------------\n",
    "\n",
    "# CREATE INDEX \n",
    "# USER AT ROOT. \n",
    "# USER HAS AN ARRAY OF NESTED PROJECTS.\n",
    "# EVERY PROJECT HAS AN ARRAY OF NESTED ASSETS.\n",
    "\n",
    "PUT my_index\n",
    "{\n",
    "\t\"mappings\": {\n",
    "\t\t\"my_type\": {\n",
    "\t\t\t\"properties\": { \n",
    "\t\t\t\t\"sku\":{\"type\":\"text\"},\n",
    "\t\t\t\t\"productFamily\":{\"type\":\"text\"},\n",
    "        \"price\":{\"type\":\"integer\"},\n",
    "\t\t\t\t\"attributes\":{\n",
    "\t\t\t\t\t\"type\": \"nested\",\n",
    "\t\t\t\t\t\"properties\":{\n",
    "\t\t\t\t\t\t\"vcpu\":{\"type\":\"integer\"},\n",
    "\t\t\t\t\t\t\"memory\":{\"type\":\"integer\"}\t\t\n",
    "\t\t\t\t\t}\n",
    "\t\t\t\t}\n",
    "\t\t  }\n",
    "\t\t}\n",
    "\t}\n",
    "}\n",
    "\n",
    "# ADDING DOCUMENT 1\n",
    "\n",
    "PUT /my_index/my_type/1\n",
    "{\n",
    "  \"sku\": \"sku1\",\n",
    "  \"productFamily\":\"sku1_product\",\n",
    "  \"price\":25,\n",
    "  \"attributes\": \n",
    "  {\n",
    "    \"vcpu\": \"32\",\n",
    "    \"memory\": \"264\"\n",
    "  }     \n",
    "}\n",
    "\n",
    "# ADDING DOCUMENT 2\n",
    "\n",
    "PUT /my_index/my_type/2\n",
    "{\n",
    "  \"sku\": \"sku2\",\n",
    "  \"productFamily\":\"sku2_product\",\n",
    "  \"price\":50,\n",
    "  \"attributes\": \n",
    "  {\n",
    "    \"vcpu\": \"64\",\n",
    "    \"memory\": \"512\"\n",
    "  }     \n",
    "}\n",
    "\n",
    "# SEARCHING ON SKU\n",
    "GET /my_index/my_type/_search\n",
    "{\n",
    "  \"query\": {\n",
    "    \"match\":{\"sku\":\"sku2\"} \n",
    "  }\n",
    "}\n",
    "\n",
    "# SEARCHING ON NESTED VCPU\n",
    "GET /my_index/my_type/_search\n",
    "{\n",
    "  \"query\": {\n",
    "    \"nested\":{\n",
    "      \"path\":\"attributes\",\n",
    "      \"query\":{\n",
    "        \"match\":{\"attributes.vcpu\":\"64\"}  \n",
    "      }\n",
    "    }\n",
    "  }\n",
    "}\n",
    "\n",
    "GET /my_index/my_type/_search\n",
    "{\n",
    "  \"query\":{\n",
    "    \"nested\":{\n",
    "      \"path\":\"attributes\",\n",
    "      \"query\":{\n",
    "        \"function_score\":{\n",
    "          \"query\":{\n",
    "            \"match_all\":{}\n",
    "          },\n",
    "          \"script_score\":{\n",
    "            \"script\":{\n",
    "              \"params\":{\"val\":64},\n",
    "              \"source\":\"-(Math.abs(params.val - attributes.vcpu.value))\"\n",
    "            }            \n",
    "          },\n",
    "          \"boost_mode\": \"replace\"\n",
    "        }\n",
    "      }\n",
    "    }\n",
    "  }\n",
    "}\n",
    "\n",
    "GET /my_index/my_type/_search\n",
    "{\n",
    "  \"query\":{\n",
    "    \"bool\":{\n",
    "      \"must\":[\n",
    "        {\n",
    "          \"match\":{\"sku\":\"sku2\"}\n",
    "        },\n",
    "        {\n",
    "          \"nested\":{\n",
    "            \"path\":\"attributes\",\n",
    "            \"query\":{\n",
    "              \"function_score\":{\n",
    "                \"query\":{\n",
    "                  \"match_all\":{}\n",
    "                },\n",
    "                \"script_score\":{\n",
    "                  \"script\":{\n",
    "                    \"params\":{\"val\":64},\n",
    "                    \"source\":\"-(Math.abs(params.val - doc['attributes.vcpu'].value))\"\n",
    "                  }            \n",
    "                },\n",
    "                \"boost_mode\": \"replace\"\n",
    "              }\n",
    "            }\n",
    "          }\n",
    "        }\n",
    "      ]\n",
    "    }\n",
    "  }\n",
    "}\n",
    "\n",
    "GET /my_index/my_type/_search\n",
    "{\n",
    "  \"query\":{\n",
    "    \"bool\":{\n",
    "      \"must\":[\n",
    "        {\n",
    "          \"match\":{\"sku\":\"sku2\"}\n",
    "        },\n",
    "        {\n",
    "          \"nested\":{\n",
    "            \"path\":\"attributes\",\n",
    "            \"query\":{\n",
    "              \"function_score\":{\n",
    "                \"query\":{\n",
    "                  \"match_all\":{}\n",
    "                },\n",
    "                \"functions\":[\n",
    "                  {\n",
    "                    \"gauss\":{\n",
    "                      \"vcpu\":{\n",
    "                        \"origin\":\"64\",\n",
    "                        \"scale\":\"1\"\n",
    "                      }\n",
    "                    }\n",
    "                  },\n",
    "                  {\n",
    "                    \"gauss\":{\n",
    "                      \"memory\":{\n",
    "                        \"origin\":\"512\",\n",
    "                        \"scale\":\"1\"\n",
    "                      }\n",
    "                    }\n",
    "                  }\n",
    "                ],\n",
    "                \"score_mode\":\"sum\",\n",
    "                \"boost_mode\": \"replace\"\n",
    "              }\n",
    "            }\n",
    "          }\n",
    "        }\n",
    "      ]\n",
    "    }\n",
    "  }\n",
    "}"
   ]
  }
 ],
 "metadata": {
  "kernelspec": {
   "display_name": "Python [conda env:BillingAndMetering]",
   "language": "python",
   "name": "conda-env-BillingAndMetering-py"
  },
  "language_info": {
   "codemirror_mode": {
    "name": "ipython",
    "version": 3
   },
   "file_extension": ".py",
   "mimetype": "text/x-python",
   "name": "python",
   "nbconvert_exporter": "python",
   "pygments_lexer": "ipython3",
   "version": "3.5.4"
  }
 },
 "nbformat": 4,
 "nbformat_minor": 2
}
