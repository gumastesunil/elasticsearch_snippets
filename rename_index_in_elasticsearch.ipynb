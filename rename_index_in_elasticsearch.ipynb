{
 "cells": [
  {
   "cell_type": "markdown",
   "metadata": {},
   "source": [
    "Renaming is done by using the reindex operator"
   ]
  },
  {
   "cell_type": "code",
   "execution_count": 1,
   "metadata": {
    "collapsed": true
   },
   "outputs": [],
   "source": [
    "from elasticsearch import Elasticsearch\n",
    "from elasticsearch.client import IndicesClient\n",
    "from elasticsearch.client import CatClient\n",
    "from elasticsearch.client import TasksClient"
   ]
  },
  {
   "cell_type": "code",
   "execution_count": 2,
   "metadata": {
    "collapsed": false
   },
   "outputs": [],
   "source": [
    "elastic_db = Elasticsearch(['localhost:9200'])\n",
    "indices_client = IndicesClient(elastic_db)\n",
    "cat_client = CatClient(elastic_db)\n",
    "task_client = TasksClient(elastic_db)"
   ]
  },
  {
   "cell_type": "code",
   "execution_count": 3,
   "metadata": {
    "collapsed": false
   },
   "outputs": [
    {
     "name": "stdout",
     "output_type": "stream",
     "text": [
      "health status index   uuid                   pri rep docs.count docs.deleted store.size pri.store.size\n",
      "yellow open   .kibana _RRwYu7rSd2H7CuBLtZ4dw   1   1          2            1     12.2kb         12.2kb\n",
      "yellow open   src_idx CjnMn89WQEqtaLZwixTLlw   5   1        256            0    124.4kb        124.4kb\n",
      "\n"
     ]
    }
   ],
   "source": [
    "# To view the indices on Elastisearch:\n",
    "print(cat_client.indices(v=True))"
   ]
  },
  {
   "cell_type": "markdown",
   "metadata": {},
   "source": [
    "From Elasticsearch documentation:  \n",
    "https://www.elastic.co/guide/en/elasticsearch/reference/current/docs-reindex.html  \n",
    "Reindex does not attempt to set up the destination index.  \n",
    "It does not copy the settings of the source index.  \n",
    "You should set up the destination index prior to running a \\_reindex action, including setting up mappings, shard counts, replicas, etc.  \n",
    "  \n",
    "src_idx has to be renamed to dest_idx"
   ]
  },
  {
   "cell_type": "code",
   "execution_count": 4,
   "metadata": {
    "collapsed": false
   },
   "outputs": [
    {
     "name": "stdout",
     "output_type": "stream",
     "text": [
      "{'shards_acknowledged': True, 'index': 'dest_idx', 'acknowledged': True}\n"
     ]
    }
   ],
   "source": [
    "# Create the dest_idx with required settings and mappings\n",
    "idx_structure = {\n",
    "    \"settings\":{\n",
    "    },\n",
    "    \"mappings\": {\n",
    "        \"doc\": {\n",
    "            \"properties\": {\n",
    "                \"user_name\": {\n",
    "                    \"type\": \"text\",\n",
    "                    \"fields\": {\n",
    "                        \"exact\": { \"type\": \"keyword\" }\n",
    "                    }\n",
    "                },\n",
    "                \"user_id\" : { \"type\" : \"keyword\" },\n",
    "                \"timestamp\" : { \"type\" : \"date\" },\n",
    "                \"user_status\" : { \"type\" : \"byte\" }\n",
    "            }\n",
    "        }\n",
    "    }\n",
    "}\n",
    "\n",
    "response = indices_client.create(index='dest_idx',body=idx_structure)\n",
    "print(response)"
   ]
  },
  {
   "cell_type": "code",
   "execution_count": 5,
   "metadata": {
    "collapsed": false
   },
   "outputs": [
    {
     "name": "stdout",
     "output_type": "stream",
     "text": [
      "{'task': 'CWaF_uEVS1GM12CFVmVzxQ:6767'}\n"
     ]
    }
   ],
   "source": [
    "# Perform reindex operation\n",
    "req_body = {\n",
    "    \"source\": {\n",
    "        \"index\": \"src_idx\"\n",
    "    },\n",
    "    \"dest\": {\n",
    "        \"index\": \"dest_idx\"\n",
    "    }\n",
    "}\n",
    "\n",
    "response = elastic_db.reindex(body=req_body, refresh=True,wait_for_completion=False)\n",
    "print(response)"
   ]
  },
  {
   "cell_type": "code",
   "execution_count": 7,
   "metadata": {
    "collapsed": false
   },
   "outputs": [
    {
     "name": "stdout",
     "output_type": "stream",
     "text": [
      "reindex from [src_idx] to [dest_idx]\n"
     ]
    }
   ],
   "source": [
    "# Check the status of the reindex operation\n",
    "response = task_client.get(task_id='CWaF_uEVS1GM12CFVmVzxQ:6767') # Use the task id from above cell's response\n",
    "print(response['task']['description'])"
   ]
  },
  {
   "cell_type": "code",
   "execution_count": 8,
   "metadata": {
    "collapsed": false
   },
   "outputs": [
    {
     "name": "stdout",
     "output_type": "stream",
     "text": [
      "health status index    uuid                   pri rep docs.count docs.deleted store.size pri.store.size\n",
      "yellow open   dest_idx hjOdWrMdRNOnscMWhHmRtw   5   1        256            0    133.6kb        133.6kb\n",
      "yellow open   .kibana  _RRwYu7rSd2H7CuBLtZ4dw   1   1          2            1     12.2kb         12.2kb\n",
      "yellow open   src_idx  CjnMn89WQEqtaLZwixTLlw   5   1        256            0    124.4kb        124.4kb\n",
      "green  open   .tasks   nfz1s74SRxaUu388nL3MYA   1   0          1            0      6.1kb          6.1kb\n",
      "\n"
     ]
    }
   ],
   "source": [
    "# To view the indices on Elastisearch:\n",
    "print(cat_client.indices(v=True))"
   ]
  },
  {
   "cell_type": "code",
   "execution_count": 9,
   "metadata": {
    "collapsed": false
   },
   "outputs": [
    {
     "name": "stdout",
     "output_type": "stream",
     "text": [
      "{'acknowledged': True}\n"
     ]
    }
   ],
   "source": [
    "# Delete the source index\n",
    "response = indices_client.delete('src_idx')\n",
    "print(response)"
   ]
  },
  {
   "cell_type": "code",
   "execution_count": 10,
   "metadata": {
    "collapsed": false
   },
   "outputs": [
    {
     "name": "stdout",
     "output_type": "stream",
     "text": [
      "{'acknowledged': True}\n"
     ]
    }
   ],
   "source": [
    "# Delete the tasks\n",
    "response = indices_client.delete('.tasks')\n",
    "print(response)"
   ]
  },
  {
   "cell_type": "code",
   "execution_count": 11,
   "metadata": {
    "collapsed": false
   },
   "outputs": [
    {
     "name": "stdout",
     "output_type": "stream",
     "text": [
      "health status index    uuid                   pri rep docs.count docs.deleted store.size pri.store.size\n",
      "yellow open   dest_idx hjOdWrMdRNOnscMWhHmRtw   5   1        256            0    133.6kb        133.6kb\n",
      "yellow open   .kibana  _RRwYu7rSd2H7CuBLtZ4dw   1   1          2            1     12.2kb         12.2kb\n",
      "\n"
     ]
    }
   ],
   "source": [
    "# To view the indices on Elastisearch:\n",
    "print(cat_client.indices(v=True))"
   ]
  },
  {
   "cell_type": "markdown",
   "metadata": {},
   "source": [
    "Thus we have renamed src_idx as dest_idx"
   ]
  },
  {
   "cell_type": "raw",
   "metadata": {},
   "source": [
    "Using Kibana's Dev Tools tab:\n",
    "-----------------------------\n",
    "\n",
    "To view the indices on Elastisearch:\n",
    "GET /_cat/indices/*?v&s=index\n",
    "\n",
    "Create Destination index and set the mapping\n",
    "PUT <Destination index name>\n",
    "{\n",
    "    \"settings\":{\n",
    "    },\n",
    "    \"mappings\": {\n",
    "        \"doc\": {\n",
    "        \"properties\": {\n",
    "            \"user_name\": {\n",
    "                \"type\": \"text\",\n",
    "                \"fields\": {\n",
    "                    \"exact\": { \"type\": \"keyword\" }\n",
    "                }\n",
    "            },\n",
    "            \"user_id\"     : { \"type\" : \"keyword\" },\n",
    "            \"timestamp\"   : { \"type\" : \"date\" },\n",
    "            \"user_status\" : { \"type\" : \"byte\" }\n",
    "            }\n",
    "        }\n",
    "    }\n",
    "}\n",
    "\n",
    "Reindex \n",
    "POST _reindex?wait_for_completion=false&refresh=true\n",
    "{\n",
    "    \"source\": {\n",
    "        \"index\": \"<Source Index Name>\"\n",
    "    },\n",
    "    \"dest\": {\n",
    "        \"index\": \"<Destination Index Name>\"\n",
    "    }\n",
    "}\n",
    "\n",
    "Reindex will return a task id.\n",
    "{\n",
    "    \"task\": \"CWaF_uEVS1GM12CFVmVzxQ:36707\"\n",
    "}\n",
    "\n",
    "Use the task id to check if the reindex operation was successful\n",
    "GET .tasks/task/CWaF_uEVS1GM12CFVmVzxQ:36707\n",
    "\n",
    "Once the reindex operation is successful, we get\n",
    "{\n",
    "    \"_index\": \".tasks\",\n",
    "    \"_type\": \"task\",\n",
    "    \"_id\": \"CWaF_uEVS1GM12CFVmVzxQ:36707\",\n",
    "    \"_version\": 1,\n",
    "    \"found\": true,\n",
    "    \"_source\": {\n",
    "        \"completed\": true,\n",
    "        \"task\": {\n",
    "            \"node\": \"CWaF_uEVS1GM12CFVmVzxQ\",\n",
    "            \"id\": 36707,\n",
    "            \"type\": \"transport\",\n",
    "            \"action\": \"indices:data/write/reindex\",\n",
    "            \"status\": {\n",
    "                \"total\": 11662,\n",
    "                \"updated\": 0,\n",
    "                \"created\": 11662,\n",
    "                \"deleted\": 0,\n",
    "                \"batches\": 12,\n",
    "                \"version_conflicts\": 0,\n",
    "                \"noops\": 0,\n",
    "                \"retries\": {\n",
    "                    \"bulk\": 0,\n",
    "                    \"search\": 0\n",
    "                },\n",
    "                \"throttled_millis\": 0,\n",
    "                \"requests_per_second\": -1,\n",
    "                \"throttled_until_millis\": 0\n",
    "            },\n",
    "            \"description\": \"reindex from [source] to [Destination]\",\n",
    "            \"start_time_in_millis\": 1533723811080,\n",
    "            \"running_time_in_nanos\": 6030504986,\n",
    "            \"cancellable\": true\n",
    "        },\n",
    "        \"response\": {\n",
    "            \"took\": 6030,\n",
    "            \"timed_out\": false,\n",
    "            \"total\": 11662,\n",
    "            \"updated\": 0,\n",
    "            \"created\": 11662,\n",
    "            \"deleted\": 0,\n",
    "            \"batches\": 12,\n",
    "            \"version_conflicts\": 0,\n",
    "            \"noops\": 0,\n",
    "            \"retries\": {\n",
    "                \"bulk\": 0,\n",
    "                \"search\": 0\n",
    "            },\n",
    "            \"throttled_millis\": 0,\n",
    "            \"requests_per_second\": -1,\n",
    "            \"throttled_until_millis\": 0,\n",
    "            \"failures\": []\n",
    "        }\n",
    "    }\n",
    "}\n",
    "\n",
    "Delete the old index or the source index\n",
    "DELETE <Source Index>\n",
    "\n",
    "To confirm, view the indices on Elastisearch:\n",
    "GET /_cat/indices/*?v&s=index\n"
   ]
  }
 ],
 "metadata": {
  "kernelspec": {
   "display_name": "Python [conda env:BillingAndMetering]",
   "language": "python",
   "name": "conda-env-BillingAndMetering-py"
  },
  "language_info": {
   "codemirror_mode": {
    "name": "ipython",
    "version": 3
   },
   "file_extension": ".py",
   "mimetype": "text/x-python",
   "name": "python",
   "nbconvert_exporter": "python",
   "pygments_lexer": "ipython3",
   "version": "3.5.4"
  }
 },
 "nbformat": 4,
 "nbformat_minor": 2
}
