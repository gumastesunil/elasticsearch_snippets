{
 "cells": [
  {
   "cell_type": "markdown",
   "metadata": {},
   "source": [
    "An example of searching for the closest value(for a field) in elasticsearch"
   ]
  },
  {
   "cell_type": "code",
   "execution_count": 1,
   "metadata": {
    "collapsed": true
   },
   "outputs": [],
   "source": [
    "from elasticsearch import Elasticsearch\n",
    "from elasticsearch.client import CatClient\n",
    "from elasticsearch.helpers import bulk"
   ]
  },
  {
   "cell_type": "code",
   "execution_count": 2,
   "metadata": {
    "collapsed": true
   },
   "outputs": [],
   "source": [
    "elastic_db = Elasticsearch(['localhost:9200'])\n",
    "cat_client = CatClient(elastic_db)"
   ]
  },
  {
   "cell_type": "code",
   "execution_count": 3,
   "metadata": {
    "collapsed": false
   },
   "outputs": [
    {
     "name": "stdout",
     "output_type": "stream",
     "text": [
      "health status index   uuid                   pri rep docs.count docs.deleted store.size pri.store.size\n",
      "yellow open   .kibana _RRwYu7rSd2H7CuBLtZ4dw   1   1          2            1     12.2kb         12.2kb\n",
      "\n"
     ]
    }
   ],
   "source": [
    "# To view the indices on Elastisearch:\n",
    "print(cat_client.indices(v=True))"
   ]
  },
  {
   "cell_type": "code",
   "execution_count": 4,
   "metadata": {
    "collapsed": false
   },
   "outputs": [],
   "source": [
    "# From \n",
    "# https://elasticsearch-py.readthedocs.io/en/master/helpers.html#bulk-helpers\n",
    "# All bulk helpers accept an instance of Elasticsearch class \n",
    "# and an iterable actions (any iterable, can also be a generator,\n",
    "# which is ideal in most cases since it will allow you to index \n",
    "# large datasets without the need of loading them into memory).\n",
    "def gendata():\n",
    "    values = [1,3,5,7,9]\n",
    "    for val in values:\n",
    "        yield {\n",
    "            \"_index\": \"closest_val\",\n",
    "            \"_type\": \"doc\",\n",
    "            \"value\": val\n",
    "        }\n",
    "    # end for"
   ]
  },
  {
   "cell_type": "code",
   "execution_count": 5,
   "metadata": {
    "collapsed": false
   },
   "outputs": [
    {
     "name": "stdout",
     "output_type": "stream",
     "text": [
      "(5, [])\n"
     ]
    }
   ],
   "source": [
    "response = bulk(client=elastic_db, actions=gendata(),stats_only=False)\n",
    "print(response)"
   ]
  },
  {
   "cell_type": "code",
   "execution_count": 6,
   "metadata": {
    "collapsed": false
   },
   "outputs": [
    {
     "name": "stdout",
     "output_type": "stream",
     "text": [
      "health status index       uuid                   pri rep docs.count docs.deleted store.size pri.store.size\n",
      "yellow open   closest_val yiaV2NUJQ4aR9edzqqqlSA   5   1          5            0      2.8kb          2.8kb\n",
      "yellow open   .kibana     _RRwYu7rSd2H7CuBLtZ4dw   1   1          2            1     12.2kb         12.2kb\n",
      "\n"
     ]
    }
   ],
   "source": [
    "# To view the indices on Elastisearch:\n",
    "print(cat_client.indices(v=True))"
   ]
  },
  {
   "cell_type": "code",
   "execution_count": 7,
   "metadata": {
    "collapsed": false
   },
   "outputs": [
    {
     "name": "stdout",
     "output_type": "stream",
     "text": [
      "{'_index': 'closest_val', '_source': {'value': 1}, '_type': 'doc', '_score': -0.0, '_id': 'an3EQWUBOrnFUpGSLhXv'}\n"
     ]
    }
   ],
   "source": [
    "# Query. Change \"val\" to pass number of your choice\n",
    "sch_body = {\n",
    "    \"query\": {\n",
    "        \"function_score\": {\n",
    "            \"query\": { \"match_all\": {} },\n",
    "            \"script_score\" : {\n",
    "                \"script\" : {\n",
    "                    \"params\": { \"val\": 1 },\n",
    "                    \"source\": \"-(Math.abs(params.val - doc['value'].value))\"\n",
    "                }\n",
    "            },\n",
    "            \"boost_mode\": \"replace\"\n",
    "        }\n",
    "    }\n",
    "}\n",
    "\n",
    "response = elastic_db.search(index='closest_val', body=sch_body, explain=False)\n",
    "print(response['hits']['hits'][0])"
   ]
  },
  {
   "cell_type": "raw",
   "metadata": {},
   "source": [
    "Using Kibana's Dev Tools tab:\n",
    "-----------------------------\n",
    "# Builds an index of 5 docs\n",
    "POST /closest_val/doc/_bulk?pretty\n",
    "{\"index\":{\"_id\":\"1\"}}\n",
    "{\"value\": 1}\n",
    "{\"index\":{\"_id\":\"2\"}}\n",
    "{\"value\": 3}\n",
    "{\"index\":{\"_id\":\"3\"}}\n",
    "{\"value\": 5}\n",
    "{\"index\":{\"_id\":\"4\"}}\n",
    "{\"value\": 7}\n",
    "{\"index\":{\"_id\":\"5\"}}\n",
    "{\"value\": 9}\n",
    "\n",
    "# Query. Change \"val\" to pass number of your choice\n",
    "GET /closest_val/_search?\n",
    "{\n",
    "    \"query\": {\n",
    "        \"function_score\": {\n",
    "            \"query\": { \"match_all\": {} },\n",
    "            \"script_score\" : {\n",
    "                \"script\" : {\n",
    "                    \"params\": { \"val\": 8 },\n",
    "                    \"source\": \"-(Math.abs(params.val - doc['value'].value))\"\n",
    "                }\n",
    "            },\n",
    "            \"boost_mode\": \"replace\"\n",
    "        }\n",
    "    }\n",
    "}\n"
   ]
  }
 ],
 "metadata": {
  "kernelspec": {
   "display_name": "Python [conda env:BillingAndMetering]",
   "language": "python",
   "name": "conda-env-BillingAndMetering-py"
  },
  "language_info": {
   "codemirror_mode": {
    "name": "ipython",
    "version": 3
   },
   "file_extension": ".py",
   "mimetype": "text/x-python",
   "name": "python",
   "nbconvert_exporter": "python",
   "pygments_lexer": "ipython3",
   "version": "3.5.4"
  }
 },
 "nbformat": 4,
 "nbformat_minor": 2
}
